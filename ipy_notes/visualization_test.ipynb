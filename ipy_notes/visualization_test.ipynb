{
 "metadata": {
  "name": "visualization_test"
 },
 "nbformat": 3,
 "nbformat_minor": 0,
 "worksheets": [
  {
   "cells": [
    {
     "cell_type": "code",
     "collapsed": false,
     "input": "import numpy as np\nimport matplotlib.pyplot as plt",
     "language": "python",
     "metadata": {},
     "outputs": [],
     "prompt_number": 1
    },
    {
     "cell_type": "code",
     "collapsed": false,
     "input": "N = 4\npos = (238, 220, 196, 174)\nneg = (172, 151, 135, 133)\nall_count = (813, 743, 622, 554)",
     "language": "python",
     "metadata": {},
     "outputs": [],
     "prompt_number": 2
    },
    {
     "cell_type": "code",
     "collapsed": false,
     "input": "ind = np.arange(N)\nwidth = 0.25",
     "language": "python",
     "metadata": {},
     "outputs": [],
     "prompt_number": 3
    },
    {
     "cell_type": "code",
     "collapsed": false,
     "input": "fig, ax = plt.subplots()\nrects1 = ax.bar(ind, pos, width, color = 'g')\nrects2 = ax.bar(ind+width, neg, width, color = 'r')\nrects3 = ax.bar(ind+2*width, all_count, width, color = 'y')",
     "language": "python",
     "metadata": {},
     "outputs": [],
     "prompt_number": 4
    },
    {
     "cell_type": "code",
     "collapsed": false,
     "input": "#add some attributes\nax.set_ylabel('Tweet Numbers')\nax.set_title('Difference tweet response in iOS version')\nax.set_xticks(ind + width)\nax.set_xticklabels(('iOS4', 'iOS5', 'iOS6', 'iOS7'))\nax.legend((rects1[0], rects2[0], rects3[0]), ('Positive','Negative','All'))",
     "language": "python",
     "metadata": {},
     "outputs": [
      {
       "metadata": {},
       "output_type": "pyout",
       "prompt_number": 5,
       "text": "<matplotlib.legend.Legend at 0x1055011d0>"
      }
     ],
     "prompt_number": 5
    },
    {
     "cell_type": "code",
     "collapsed": false,
     "input": "def autolabel(rects):\n    for rect in rects:\n        height = rect.get_height()\n        ax.text(rect.get_x()+rect.get_width()/3., 1.05*height, \n                '%d'%int(height), ha = 'center', va = 'bottom')\nautolabel(rects1)\nautolabel(rects2)\nautolabel(rects3)\n\nplt.show()",
     "language": "python",
     "metadata": {},
     "outputs": [],
     "prompt_number": 6
    },
    {
     "cell_type": "code",
     "collapsed": false,
     "input": "",
     "language": "python",
     "metadata": {},
     "outputs": []
    }
   ],
   "metadata": {}
  }
 ]
}