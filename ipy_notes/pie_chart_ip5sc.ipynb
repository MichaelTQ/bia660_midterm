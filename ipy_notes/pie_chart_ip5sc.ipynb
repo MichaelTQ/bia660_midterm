{
 "metadata": {
  "name": ""
 },
 "nbformat": 3,
 "nbformat_minor": 0,
 "worksheets": [
  {
   "cells": [
    {
     "cell_type": "code",
     "collapsed": false,
     "input": [
      "import matplotlib.pyplot as plt\n",
      "from matplotlib.gridspec import GridSpec\n",
      "\n",
      "labels = ['Positive', 'Negative', 'Others']\n",
      "fracs = [None]*2\n",
      "pos = (565, 619)\n",
      "neg = (478, 352)\n",
      "all_count = (2207, 2234)\n",
      "for i in range(2):\n",
      "    fracs[i] = [pos[i], neg[i], all_count[i]-pos[i]-neg[i]]\n",
      "\n",
      "explode = (0.05, 0, 0)\n",
      "\n",
      "colors = ['yellowgreen', 'gold', 'lightskyblue', 'lightcoral', 'burlywood']\n",
      "plt.title('')\n",
      "the_grid = GridSpec(1, 2)\n",
      "plt.subplot(the_grid[0, 0], aspect = 1)\n",
      "plt.pie(fracs[0], explode, labels = labels, colors = colors,\n",
      "        autopct = '%1.1f%%', shadow = True)\n",
      "plt.title('iPhone 5S', bbox = {'facecolor':'white', 'alpha':0.5, 'pad':5})\n",
      "\n",
      "plt.subplot(the_grid[0, 1], aspect = 1)\n",
      "plt.pie(fracs[1], explode, labels = labels, colors = colors,\n",
      "        autopct = '%1.1f%%', shadow = True)\n",
      "plt.title('iPhone 5C', bbox = {'facecolor':'white', 'alpha':0.5, 'pad':5})\n",
      "\n",
      "plt.show()"
     ],
     "language": "python",
     "metadata": {},
     "outputs": [],
     "prompt_number": 4
    },
    {
     "cell_type": "code",
     "collapsed": false,
     "input": [],
     "language": "python",
     "metadata": {},
     "outputs": []
    }
   ],
   "metadata": {}
  }
 ]
}