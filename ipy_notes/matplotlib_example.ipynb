{
 "metadata": {
  "name": "matplotlib_example"
 },
 "nbformat": 3,
 "nbformat_minor": 0,
 "worksheets": [
  {
   "cells": [
    {
     "cell_type": "code",
     "collapsed": false,
     "input": "import numpy as np\nimport matplotlib.pyplot as plt\n\nN = 5\nmenMeans = (20, 35, 30, 35, 27)\nmenStd =   (2, 3, 4, 1, 2)\n\nind = np.arange(N)  # the x locations for the groups\nwidth = 0.35       # the width of the bars\n\nfig, ax = plt.subplots()\nrects1 = ax.bar(ind, menMeans, width, color='r', yerr=menStd)\n\nwomenMeans = (25, 32, 34, 20, 25)\nwomenStd =   (3, 5, 2, 3, 3)\nrects2 = ax.bar(ind+width, womenMeans, width, color='y', yerr=womenStd)\n\n# add some\nax.set_ylabel('Scores')\nax.set_title('Scores by group and gender')\nax.set_xticks(ind+width)\nax.set_xticklabels( ('G1', 'G2', 'G3', 'G4', 'G5') )\n\nax.legend( (rects1[0], rects2[0]), ('Men', 'Women') )\n\ndef autolabel(rects):\n    # attach some text labels\n    for rect in rects:\n        height = rect.get_height()\n        ax.text(rect.get_x()+rect.get_width()/2., 1.05*height, '%d'%int(height),\n                ha='center', va='bottom')\n\nautolabel(rects1)\nautolabel(rects2)\n\nplt.show()",
     "language": "python",
     "metadata": {},
     "outputs": [],
     "prompt_number": 1
    },
    {
     "cell_type": "code",
     "collapsed": false,
     "input": "",
     "language": "python",
     "metadata": {},
     "outputs": []
    }
   ],
   "metadata": {}
  }
 ]
}