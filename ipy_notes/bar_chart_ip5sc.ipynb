{
 "metadata": {
  "name": ""
 },
 "nbformat": 3,
 "nbformat_minor": 0,
 "worksheets": [
  {
   "cells": [
    {
     "cell_type": "code",
     "collapsed": false,
     "input": [
      "import numpy as np\n",
      "import matplotlib.pyplot as plt\n",
      "\n",
      "colors = ['seagreen','yellowgreen', 'gold', 'lightskyblue', 'royalblue', 'lightcoral', 'burlywood']\n",
      "\n",
      "N = 2\n",
      "pos = (565, 619)\n",
      "neg = (478, 352)\n",
      "all_count = (2207, 2234)\n",
      "\n",
      "ind = np.arange(N)\n",
      "width = 0.15\n",
      "\n",
      "fig, ax = plt.subplots()\n",
      "rects1 = ax.bar(ind, pos, width, color = colors[0])\n",
      "rects2 = ax.bar(ind, neg, width, color = colors[2], bottom = pos)\n",
      "rects3 = ax.bar(ind + width, all_count, width, color = colors[4])\n",
      "\n",
      "#add some attributes\n",
      "ax.set_ylabel('Tweet Numbers')\n",
      "#ax.set_title('')\n",
      "ax.set_xticks(ind + width)\n",
      "ax.set_xticklabels(('iPhone 5S', 'iPhone 5C'))\n",
      "leg = ax.legend((rects1[0], rects2[0], rects3[0]), ('Positive','Negative','All'),\n",
      "          loc='upper center', fancybox = True)\n",
      "leg.get_frame().set_alpha(0.5)\n",
      "\n",
      "def autolabel(rects):\n",
      "    for rect in rects:\n",
      "        height = rect.get_height()\n",
      "        ax.text(rect.get_x()+rect.get_width()/2., height + 20, \n",
      "                '%d'%int(height), ha = 'center', va = 'bottom')\n",
      "        \n",
      "autolabel(rects1)\n",
      "\n",
      "for i in range(2):\n",
      "    height = rects2[i].get_height() + rects1[i].get_height()\n",
      "    ax.text(rects2[i].get_x() + rects2[i].get_width()/2., height + 20,\n",
      "            '%d'%int(height - rects1[i].get_height()), ha = 'center', va = 'bottom')\n",
      "\n",
      "autolabel(rects3)\n",
      "\n",
      "plt.show()"
     ],
     "language": "python",
     "metadata": {},
     "outputs": [],
     "prompt_number": 12
    },
    {
     "cell_type": "code",
     "collapsed": false,
     "input": [],
     "language": "python",
     "metadata": {},
     "outputs": []
    }
   ],
   "metadata": {}
  }
 ]
}