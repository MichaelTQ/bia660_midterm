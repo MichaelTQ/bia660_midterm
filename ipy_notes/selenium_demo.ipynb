{
 "metadata": {
  "name": "selenium_demo"
 },
 "nbformat": 3,
 "nbformat_minor": 0,
 "worksheets": [
  {
   "cells": [
    {
     "cell_type": "code",
     "collapsed": false,
     "input": "from bs4 import BeautifulSoup\nimport urllib\nfrom selenium import webdriver\nfrom selenium.common.exceptions import NoSuchElementException\n\nimport pymysql\nimport re\n\nimport time\nfrom datetime import datetime\nimport calendar",
     "language": "python",
     "metadata": {},
     "outputs": [],
     "prompt_number": 3
    },
    {
     "cell_type": "code",
     "collapsed": false,
     "input": "def myParseDateTime(str):\n    tmp_list = str.split(' ')\n    hour_min = tmp_list[0].split(':')\n    minute = hour_min[-1]\n    hour = int(hour_min[0])\n    if(tmp_list[1] == \"PM\"):\n        hour = int(hour) + 12\n        if(hour == 24):\n            hour=0\n    minute = int(minute)\n    d = int(tmp_list[3])\n    y = int(tmp_list[5])+2000\n    dic_months = dict((v,k) for k,v in enumerate(calendar.month_abbr))\n    m = dic_months[tmp_list[4]]\n    #print y, m, d, hour, minute\n    #print type(y), type(m), type(d), type(hour), type(minute)\n    dt = datetime(y, m, d, hour, minute, 0)\n    return dt",
     "language": "python",
     "metadata": {},
     "outputs": [],
     "prompt_number": 4
    },
    {
     "cell_type": "code",
     "collapsed": false,
     "input": "def myDBInsert(dbuser, dbpsw, dbname, tbl_name, search_con, t_since, t_until, page_num, lang, sort_how):\n    search_url = 'http://topsy.com/s?q=' + search_con + '&type=tweet&sort=-date&language=' + \\\n    lang + '&offset=' + str(page_num) + '0&mintime=' + t_since + '&maxtime=' + t_until\n    list_tweets = []\n\n    browser = webdriver.Firefox()\n    browser.get(search_url)\n    assert \"Twitter Search, Monitoring, & Analytics | Topsy.com\" in browser.title\n    try:\n        elem_list = browser.find_elements_by_class_name('media-body')\n    except NoSuchElementException:\n        assert 0, \"Not find!\"\n\n    for elem in elem_list:\n        id_html = elem.get_attribute(\"innerHTML\")\n        soup_all = BeautifulSoup(id_html)\n        soup_id_name = soup_all.find(attrs = {\"class\": \"media-heading\"})\n        tmp_id_name_list = soup_id_name.text.split(' @')\n        tmp_name = tmp_id_name_list[0]\n        tmp_id = tmp_id_name_list[-1]\n        #print tmp_id + \"\\t\" + tmp_name #person's id & name the tweet belonged to\n        str_uurl = \"http://twitter.com/\" + tmp_id #this guy's twitter url\n        #print str_uurl\n        soup_content = soup_id_name.nextSibling\n        str_content = soup_content.getText(separator = u\" \")\n        #print str_content #tweet content\n        soup_turl = soup_all.find(attrs = {\"class\": \"muted\"})\n        str_turl = soup_turl[\"href\"]\n        #print str_turl #tweet url\n        try:\n            f = urllib.urlopen(str_turl)\n        except IOError, e:\n            print \"cannot fetch tweet_url, donno why...\",\n            continue\n        tweet_html = f.read()\n        soup_tweet = BeautifulSoup(tweet_html)\n        tag_time = soup_tweet.findAll('span', attrs = {\"class\":\"metadata\"})\n        if(len(tag_time) != 0):\n            str_ttime = tag_time[0].find('span')['title']\n            try:\n                dt = myParseDateTime(str_ttime)    \n            except TypeError, e:\n                print dt, ' ',\n                print \" type error!\",\n                continue\n            #print dt\n        else:\n            str_ttime = \"\"\n            dt = datetime.now()\n            dt = None\n            #print dt\n        list_tw_con = [tmp_id, tmp_name, str_uurl, str_content, str_turl, dt]\n        #print list_tw_con\n        list_tweets.append(list_tw_con)\n        #demo showing\n        #print list_tw_con\n        print \"User ID:\\t\\t\", list_tw_con[0]\n        print \"User Name:\\t\", list_tw_con[1]\n        print \"User URL:\\t\", list_tw_con[2]\n        print \"Tweet Content:\\t\", list_tw_con[3]\n        print \"Tweet URL:\\t\", list_tw_con[4]\n        print \"Tweet Time:\\t\",\n        print list_tw_con[5]\n        print \"\\n\"\n    conn = pymysql.connect(host = '127.0.0.1', port = 3306, user = dbuser, passwd = dbpsw, db = dbname)\n    cur = conn.cursor()\n    j = 1;\n    for i in list_tweets:\n        if(i[5] == None):\n            str_insert_sql = \"insert ignore into \" + tbl_name + \" values( '\" + re.escape(i[0]) + \"', '\" + re.escape(i[1]) + \\\n            \"', '\" + re.escape(i[2]) + \"', '\" + re.escape(i[3]) + \"', '\" + re.escape(i[4]) + \\\n            \"', '\" + \"NULL\" + \"');\"\n        else:\n            str_insert_sql = \"insert ignore into \" + tbl_name + \" values( '\" + re.escape(i[0]) + \"', '\" + re.escape(i[1]) + \\\n            \"', '\" + re.escape(i[2]) + \"', '\" + re.escape(i[3]) + \"', '\" + re.escape(i[4]) + \\\n            \"', '\" + i[5].isoformat(' ') + \"');\"\n        try:\n            cur.execute(str_insert_sql)\n        except UnicodeEncodeError, e:\n            #print \"unicode problem!\",\n            continue\n        #print str_insert_sql\n        cur.fetchall()\n        cur.connection.commit()\n        #print str(j)+\"/10\", \" \",\n        j = j + 1\n    cur.close()\n    conn.close()\n    browser.close()\n    #print \"Page:\" + str(page_num), \" \",",
     "language": "python",
     "metadata": {},
     "outputs": [],
     "prompt_number": 13
    },
    {
     "cell_type": "code",
     "collapsed": false,
     "input": "dbuser = \"bia_user\"\ndbpsw = \"biabiabia\"\ndbname = \"demo_db\"\ntbl_name = 'demo_tbl'\nsearch_con = '\\\"iOS 4\\\"'\nt_since = '1277078425'\nt_until = '1308700814'\npage_num = '3'\nlang = 'en'\nsort_how = '-date'\n\nmyDBInsert(dbuser, dbpsw, dbname, tbl_name, search_con, t_since, t_until, page_num, lang, sort_how)",
     "language": "python",
     "metadata": {},
     "outputs": [
      {
       "output_type": "stream",
       "stream": "stdout",
       "text": "User ID:\t\t2five \nUser Name:\t2five\nUser URL:\thttp://twitter.com/2five \nTweet Content:\tRT  @applefirst : New iPhone operating system, iOS 4, download adds features - USA Today http://sns.ly/b4H43\nTweet URL:\thttp://twitter.com/2five/status/16654072447\nTweet Time:\t2010-06-20 17:02:00\n\n\nUser ID:\t\t"
      },
      {
       "output_type": "stream",
       "stream": "stdout",
       "text": "ezbizs \nUser Name:\tEz Bizs\nUser URL:\thttp://twitter.com/ezbizs \nTweet Content:\tHow to Make Sure Your iPhone is Ready for iOS 4: iPhone Download Blog (blog)\nThe iPhone 2G and the first iPo... http://tinyurl.com/29qhvs3\nTweet URL:\thttp://twitter.com/Ezbizs/status/16654075671\nTweet Time:\t2010-06-20 17:09:00\n\n\nUser ID:\t\t"
      },
      {
       "output_type": "stream",
       "stream": "stdout",
       "text": "jonkev14 \nUser Name:\tKevin S. Jones\nUser URL:\thttp://twitter.com/jonkev14 \nTweet Content:\tFacebook For iPhone Updated: No iOS 4 Support, No iPad Support, Broken UI - TechCrunch http://tinyurl.com/23wfp25\nTweet URL:\thttp://twitter.com/jonkev14/status/16654081974\nTweet Time:\t2010-06-20 17:09:00\n\n\nUser ID:\t\t"
      },
      {
       "output_type": "stream",
       "stream": "stdout",
       "text": "schaaking \nUser Name:\tGary Schaak\nUser URL:\thttp://twitter.com/schaaking \nTweet Content:\tRT  @TiPb : We don't know the exact time of iOS 4 release tomorrow. Only Apple does. When they're ready, they'll pull the trigger.\nTweet URL:\thttp://twitter.com/schaaking/status/16654089530\nTweet Time:\t2010-06-20 17:09:00\n\n\nUser ID:\t\t"
      },
      {
       "output_type": "stream",
       "stream": "stdout",
       "text": "appleimobphone \nUser Name:\tappleimobphone\nUser URL:\thttp://twitter.com/appleimobphone \nTweet Content:\tPhones ReviewiPhone iOS 4 releasing tomorrow 21 JunePhones ReviewWe all know that this is going to be a busy week with a [...]\nTweet URL:\thttp://twitter.com/appleimobphone/status/16654125306\nTweet Time:\t2010-06-20 17:10:00\n\n\nUser ID:\t\t"
      },
      {
       "output_type": "stream",
       "stream": "stdout",
       "text": "aidancdlvi \nUser Name:\tAidan CDLVI\nUser URL:\thttp://twitter.com/aidancdlvi \nTweet Content:\tWhen iOS 4 is out, I'm jailbreaking my iPod Touch 2G for multitasking and wallpaper. *Annoyed at Apple*\nTweet URL:\thttp://twitter.com/AidanCheddar/status/16654156589\nTweet Time:\t2010-06-20 17:10:00\n\n\nUser ID:\t\t"
      },
      {
       "output_type": "stream",
       "stream": "stdout",
       "text": "tzmtk \nUser Name:\tTaizo Matsuoka\nUser URL:\thttp://twitter.com/tzmtk \nTweet Content:\tThe Best iOS 4-Ready Apps So Far http://feedproxy.google.com/~r/Techcrunch/~3/p1Mw1ICKz9Q/\nTweet URL:\thttp://twitter.com/tzmtk/status/16654159699\nTweet Time:\t2010-06-20 17:11:00\n\n\nUser ID:\t\t"
      },
      {
       "output_type": "stream",
       "stream": "stdout",
       "text": "findmobilephone \nUser Name:\tBest Mobile Phone\nUser URL:\thttp://twitter.com/findmobilephone \nTweet Content:\tFacebook For iPhone Updated: No iOS 4 Support, No iPad Support, Broken UI - TechCrunch http://tinyurl.com/23wfp25\nTweet URL:\thttp://twitter.com/findmobilephone/status/16654160418\nTweet Time:\t2010-06-20 17:11:00\n\n\nUser ID:\t\t"
      },
      {
       "output_type": "stream",
       "stream": "stdout",
       "text": "harabanar \nUser Name:\tHelgi Hrafn\nUser URL:\thttp://twitter.com/harabanar \nTweet Content:\tLooking forward to the new Eminem album, Recovery, to hit  #iTunes  tomorrow. Yes, and iOS 4 ;)  #apple   #iphone   #ios4\nTweet URL:\thttp://twitter.com/harabanar/status/16654191431\nTweet Time:\t2010-06-20 17:11:00\n\n\nUser ID:\t\t"
      },
      {
       "output_type": "stream",
       "stream": "stdout",
       "text": "noterobot \nUser Name:\tNoteRobot\nUser URL:\thttp://twitter.com/noterobot \nTweet Content:\t( @sucre187 ) Note to self: Do not update to iOS 4 till there's a JB for it. DANG!! *BUT I WANNA CHECK OUT THE NEW OS!!!* Arrrgghh ~\nTweet URL:\thttp://twitter.com/NoteRobot/status/16654199910\nTweet Time:\t2010-06-20 17:11:00\n\n\n"
      }
     ],
     "prompt_number": 18
    },
    {
     "cell_type": "code",
     "collapsed": false,
     "input": "",
     "language": "python",
     "metadata": {},
     "outputs": []
    }
   ],
   "metadata": {}
  }
 ]
}