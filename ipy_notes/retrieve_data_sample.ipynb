{
 "metadata": {
  "name": "retrieve_data_tmp"
 },
 "nbformat": 3,
 "nbformat_minor": 0,
 "worksheets": [
  {
   "cells": [
    {
     "cell_type": "code",
     "collapsed": false,
     "input": "import pymysql",
     "language": "python",
     "metadata": {},
     "outputs": [],
     "prompt_number": 1
    },
    {
     "cell_type": "code",
     "collapsed": false,
     "input": "db_user = \"bia_user\"\ndb_password = \"biabiabia\"\ndb_name = \"ios_compare_db\"\ntbl_name = \"ios_four_tweets\"",
     "language": "python",
     "metadata": {},
     "outputs": [],
     "prompt_number": 9
    },
    {
     "cell_type": "code",
     "collapsed": false,
     "input": "conn = pymysql.connect(host = 'localhost', port = 3306, user = db_user, passwd = db_password, db = db_name)\n\n#get the data! get first 20 rows newest tweet first\nstr_sql = 'select tw_url, tw_content, tw_time from ' + tbl_name + ' order by tw_time DESC limit 20'\ncur = conn.cursor()\ncur.execute(str_sql)\n\nfor row in cur:\n    for i in row:\n        print i\n    print \"\\n\"\n\ncur.close()\nconn.close()",
     "language": "python",
     "metadata": {},
     "outputs": [
      {
       "output_type": "stream",
       "stream": "stdout",
       "text": "http://twitter.com/lisajill/status/16888642130\nI keep trying to do iOS 4 stuff on my iPad.  Can't wait for the iPad to have iOS 4.\n2010-06-23 17:25:00\n\n\nhttp://twitter.com/gadgetsntechvid/status/16888631848\nNew Video: How to get multitasking and background in homescreen on iPhone 3G (iOS 4.0) http://bit.ly/cm4W2x\n2010-06-23 17:25:00\n\n\nhttp://twitter.com/li0n/status/16888569762\n(How) can I make Skype run in the background on iOS 4? (on a 3Gs)  Double tapping to run another app just logs me out of Skype. :-/\n2010-06-23 17:24:00\n\n\nhttp://twitter.com/ximii/status/16888620757\n[myTunz] If you've upgraded to iOS 4.0 note that in-app purchases (lyrics, etc.) might be broken. App updates for iOS 4.0 coming soon...\n2010-06-23 17:24:00\n\n\nhttp://twitter.com/iphone04/status/16888616075\n34 iOS 4.0 Features and Tips For the iPhone and iPod touch | Mac|Life:  http://bit.ly/cakrlB\n2010-06-23 17:24:00\n\n\nhttp://twitter.com/interobsharus/status/16888623536\niOS 4 Optimized Apps  #hardware  http://bit.ly/cF6zfv\n2010-06-23 17:24:00\n\n\nhttp://twitter.com/allthatisapple/status/16888575464\nImportant Update!: iOS 4: About over-the-air carrier settings updates http://bit.ly/9hNxp1\n2010-06-23 17:24:00\n\n\nhttp://twitter.com/GWDelRossi/status/16888544753\ndownloading  iPhone iOS 4.0, this is going to be sick!\n2010-06-23 17:23:00\n\n\nhttp://twitter.com/brainwagon/status/16888535623\nNew post: Multitasking With iOS 4 is Horribl... http://brainwagon.org/2010/06/23/multitasking-with-ios-4-is-horrible-apple-blew-it-pcworld/\n2010-06-23 17:23:00\n\n\nhttp://twitter.com/ChrisStone01/status/16888549399\nUpgrade to iOS 4. Figured out multitasking -- what other cool features do I need to know about?\n2010-06-23 17:23:00\n\n\nhttp://twitter.com/rdowns/status/16888472461\n@PurpleAndBlack  Lots of apps need to be updated for iOS 4. Slow developers.\n2010-06-23 17:22:00\n\n\nhttp://twitter.com/TVmyway/status/16888461191\nApple's iPhone 4 and iOS 4 Face a Changing Market: \"It is also a bit scary in that it bodes poorly for an open Int... http://bit.ly/bM0Hhj\n2010-06-23 17:22:00\n\n\nhttp://twitter.com/IpodInfo/status/16888447654\nFix iBooks Not Working on iPhone 3G/iPod Touch with iOS 4 after redsn0w Jailbreak http://bit.ly/diSwzw\n2010-06-23 17:22:00\n\n\nhttp://twitter.com/2itterist/status/16888444818\nCongrats! It is awesome:) RT  @saritaonline  Weeee! Upgraded to iOS 4.0 finally! Good mornight tweeps!\n2010-06-23 17:22:00\n\n\nhttp://twitter.com/2itterist/status/16888483229\nRT  @IntoMobile  Apple guide for iPhone 4 and iOS 4 is live http://bit.ly/dm5NQL\n2010-06-23 17:22:00\n\n\nhttp://twitter.com/chrisstewart/status/16888489945\nMy battery life has been abysmal since installing iOS 4.\n2010-06-23 17:22:00\n\n\nhttp://twitter.com/andreconfiado/status/16888455997\nExperimenting with iOS 4.0! Can't get cellular data at the moment. Crap!!! -Update via SMS for FREE using http://isip.ph\n2010-06-23 17:22:00\n\n\nhttp://twitter.com/iphonetechnet/status/16888503557\nUpdate:: Apple posts 243-page iPhone 4/iOS 4 user ... http://iphone.techintersect.net/iphone/apple-posts-243-page-iphone-4ios-4-user-guide/\n2010-06-23 17:22:00\n\n\nhttp://twitter.com/TechNGuide/status/16888431254\nMacRumors : Mac News and Rumors - Apple Posts User Guide for iPhone 4 and iOS 4 - http://bit.ly/cckSyu\n2010-06-23 17:21:00\n\n\nhttp://twitter.com/stevenmuise/status/16888441421\nif you care about your privacy / iOS 4.\nhttp://www.pcworld.com/article/199497/apple\\_headed\\_for\\_privacy\\_row\\_with\\_ios\\_4\\_update.html?tk=hp\\_new\n2010-06-23 17:21:00\n\n\n"
      }
     ],
     "prompt_number": 29
    },
    {
     "cell_type": "code",
     "collapsed": false,
     "input": "",
     "language": "python",
     "metadata": {},
     "outputs": []
    }
   ],
   "metadata": {}
  }
 ]
}