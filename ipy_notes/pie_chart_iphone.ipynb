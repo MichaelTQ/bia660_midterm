{
 "metadata": {
  "name": ""
 },
 "nbformat": 3,
 "nbformat_minor": 0,
 "worksheets": [
  {
   "cells": [
    {
     "cell_type": "code",
     "collapsed": false,
     "input": [
      "import matplotlib.pyplot as plt\n",
      "from matplotlib.gridspec import GridSpec\n",
      "\n",
      "labels = ['Positive', 'Negative', 'Others']\n",
      "fracs = [None]*5\n",
      "pos = (1048, 707, 688, 633, 615)\n",
      "neg = (554, 571, 554, 552, 422)\n",
      "all_count = (3091, 3027, 2758, 2492, 2225)\n",
      "for i in range(5):\n",
      "    fracs[i] = [pos[i], neg[i], all_count[i]-pos[i]-neg[i]]\n",
      "\n",
      "explode = (0.05, 0, 0)\n",
      "\n",
      "colors = ['yellowgreen', 'gold', 'lightskyblue', 'lightcoral', 'burlywood']\n",
      "plt.title('')\n",
      "#the_grid = GridSpec(3, 2)\n",
      "#plt.subplot(the_grid[0, 0], aspect = 1)\n",
      "plt.subplot2grid((3, 2),(0,0),aspect = 1)\n",
      "plt.pie(fracs[0], explode, labels = labels, colors = colors,\n",
      "        autopct = '%1.1f%%', shadow = True)\n",
      "plt.title('iPhone 3GS', bbox = {'facecolor':'white', 'alpha':0.5, 'pad':5})\n",
      "\n",
      "#plt.subplot(the_grid[0, 1], aspect = 1)\n",
      "plt.subplot2grid((3, 2),(1,0), aspect = 1)\n",
      "plt.pie(fracs[1], explode, labels = labels, colors = colors,\n",
      "        autopct = '%1.1f%%', shadow = True)\n",
      "plt.title('iPhone 4', bbox = {'facecolor':'white', 'alpha':0.5, 'pad':5})\n",
      "\n",
      "#plt.subplot(the_grid[1, 0], aspect = 1)\n",
      "plt.subplot2grid((3, 2),(0,1), aspect = 1)\n",
      "plt.pie(fracs[2], explode, labels = labels, colors = colors,\n",
      "        autopct = '%1.1f%%', shadow = True)\n",
      "plt.title('iPhone 4S', bbox = {'facecolor':'white', 'alpha':0.5, 'pad':5})\n",
      "\n",
      "#plt.subplot(the_grid[1, 1], aspect = 1)\n",
      "plt.subplot2grid((3, 2),(1,1), aspect = 1)\n",
      "plt.pie(fracs[3], explode, labels = labels, colors = colors,\n",
      "        autopct = '%1.1f%%', shadow = True)\n",
      "plt.title('iPhone 5', bbox = {'facecolor':'white', 'alpha':0.5, 'pad':5})\n",
      "\n",
      "#plt.subplot(the_grid[2,0], aspect = 1)\n",
      "plt.subplot2grid((3, 2),(2,0), colspan = 2, aspect = 1)\n",
      "plt.pie(fracs[4], explode, labels = labels, colors = colors,\n",
      "        autopct = '%1.1f%%', shadow = True)\n",
      "plt.title('iPhone 5S', bbox = {'facecolor':'white', 'alpha':0.5, 'pad':5})\n",
      "\n",
      "plt.show()"
     ],
     "language": "python",
     "metadata": {},
     "outputs": [],
     "prompt_number": 23
    },
    {
     "cell_type": "code",
     "collapsed": false,
     "input": [],
     "language": "python",
     "metadata": {},
     "outputs": []
    }
   ],
   "metadata": {}
  }
 ]
}