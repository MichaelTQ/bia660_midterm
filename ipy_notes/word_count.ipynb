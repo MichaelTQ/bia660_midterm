{
 "metadata": {
  "name": "word_count"
 },
 "nbformat": 3,
 "nbformat_minor": 0,
 "worksheets": [
  {
   "cells": [
    {
     "cell_type": "code",
     "collapsed": false,
     "input": "import pymysql\nimport string\nfrom collections import Counter\n\ndb_user = \"bia_user\"\ndb_password = \"biabiabia\"\ndb_name = \"ios_compare_db\"\n#tbl_name = \"ios_four_tweets\"\n#str_result_file = '/users/michaelt/downloads/results/keywords_ios4.txt'\n\nlist_tbl_names = ['ios_four_tweets',\n                  'ios_five_tweets',\n                  'ios_six_tweets',\n                  'ios_seven_tweets',\n                  'iphone3gs_tweets',\n                  'iphone4_tweets',\n                  'iphone4s_tweets',\n                  'iphone5_tweets',\n                  'iphone5s_tweets',\n                  'iphone5s_only_tweets',\n                  'iphone5c_only_tweets']\nlist_result_files = ['./results/keywords_ios4.txt',\n                     './results/keywords_ios5.txt',\n                     './results/keywords_ios6.txt',\n                     './results/keywords_ios7.txt',\n                     './results/keywords_iphone3gs.txt',\n                     './results/keywords_iphone4.txt',\n                     './results/keywords_iphone4s.txt',\n                     './results/keywords_iphone5.txt',\n                     './results/keywords_iphone5s.txt',\n                     './results/keywords_iphone5s_only.txt',\n                     './results/keywords_iphone5c_only.txt']\n\nif len(list_tbl_names) == len(list_result_files):\n    print \"matches!\"\nelse:\n    print \"lists doe not match!\"",
     "language": "python",
     "metadata": {},
     "outputs": [
      {
       "output_type": "stream",
       "stream": "stdout",
       "text": "matches!\n"
      }
     ],
     "prompt_number": 162
    },
    {
     "cell_type": "code",
     "collapsed": false,
     "input": "list_puncts = []\nfor each in string.punctuation:\n    list_puncts.append(each)\n#print list_puncts",
     "language": "python",
     "metadata": {},
     "outputs": [],
     "prompt_number": 163
    },
    {
     "cell_type": "code",
     "collapsed": false,
     "input": "def removePunc(tmp_str):\n    for i in tmp_str:\n        if i in list_puncts:\n            tmp_str = tmp_str.replace(i, \"\")\n    return tmp_str",
     "language": "python",
     "metadata": {},
     "outputs": [],
     "prompt_number": 164
    },
    {
     "cell_type": "code",
     "collapsed": false,
     "input": "list_useless_words = ['of', 'update', 'updated', 'itunes', 'be', 'will', 'so', 'ipod', 'out', \n                      'touch', 'that', 'this', 'ios', '4', 'iphone', 'for', 'the', 'to', 'on', \n                      'and', 'is', 'with', 'new', 'i','apple', 'in', 'a', 'app', 'no', 'rt', \n                      'apps', 'it', 'you', 'my', 'ipad', 'now', 'have', 'gets', 'get', 'its', \n                      'has', 'today', 'apples', 'but', '5', '6', '7', 'just', 'im', 'about',\n                      'like', 'not', 'your', 'phone', '5s', '4s', 'dont', 'if', 'are', 'from',\n                      'phone', 'me', 'or', 'what', 'when', 'all', 'tomorrow', 'can', 'comes', 'how',\n                      'cant', 'wait', 'do', 'comes', 'at', 'via', 'time', 'store', 'an', 'than',\n                      'iphone4', 'early', 'june', 'want', '5c', 'ad', 'one', 'got', 'look', 'by', \n                      '40', 'support', 'download', 'features', '8', '2', 's', 'upgrade', '3gs',\n                      'launch', 'video', 'day', 'up', 'here', 'first', 'review', 'giving', 'more',\n                      'away', '30', 'pre', 'preorders']",
     "language": "python",
     "metadata": {},
     "outputs": [],
     "prompt_number": 168
    },
    {
     "cell_type": "code",
     "collapsed": false,
     "input": "def writeWordCounts(tbl_name, str_result_file):\n    list_all_words = []\n    conn = pymysql.connect(host = '127.0.0.1', port = 3306, user = db_user, \n                           passwd = db_password, db = db_name)\n    list_contents = []\n\n    #get the data! get first 20 rows newest tweet first\n    str_sql_get = 'select tw_url, tw_content, tw_time from ' + tbl_name + ' order by tw_time DESC'\n    cur = conn.cursor()\n\n    cur.execute(str_sql_get)\n    for row in cur:\n        content = row[1]\n        list_contents.append(content)\n    cur.close()\n    conn.close()\n    \n    for content in list_contents:\n        content = content.lower()\n        content = removePunc(content)\n        tmp_list = content.split()\n        #tmp_list = removeUselessWords(tmp_list)\n        list_all_words = list_all_words + tmp_list\n    mycnt = Counter(list_all_words)\n    for word in list(mycnt):\n        if word in list_useless_words:\n            del mycnt[word]\n    list_count_results = mycnt.most_common(50)\n    print list_count_results\n\n    f = open(str_result_file, 'w')\n    for i in range(20):\n        f.write(list_count_results[i][0])\n        f.write(\": \")\n        f.write(str(list_count_results[i][1]))\n        f.write('\\n')\n    f.close()",
     "language": "python",
     "metadata": {},
     "outputs": [],
     "prompt_number": 169
    },
    {
     "cell_type": "code",
     "collapsed": false,
     "input": "for i in range(len(list_tbl_names)):\n    writeWordCounts(list_tbl_names[i], list_result_files[i])",
     "language": "python",
     "metadata": {},
     "outputs": [
      {
       "output_type": "stream",
       "stream": "stdout",
       "text": "[('multitasking', 280), ('jailbreak', 141), ('facebook', 134), ('3g', 127), ('92', 121), ('navigon', 116), ('release', 114), ('redsn0w', 103), ('released', 99), ('better', 96), ('broken', 96), ('best', 95), ('ui', 92), ('evernote', 90), ('feature', 86), ('available', 81), ('system', 81), ('operating', 80), ('095', 78), ('4ready', 74), ('far', 74), ('notetaking', 74), ('gm', 74), ('blog', 73), ('news', 67), ('know', 66), ('adds', 65), ('which', 62), ('os', 60), ('gps', 59), ('windows', 58), ('navigation', 57), ('post', 56), ('mac', 55), ('releases', 55), ('unlock', 54), ('monday', 54), ('ready', 53), ('confirmed', 52), ('users', 52), ('looking', 49), ('forward', 46), ('we', 45), ('updates', 44), ('as', 44), ('most', 44), ('demonstrates', 44), ('until', 43), ('2g', 43), ('going', 42)]\n[('wp7', 295), ('windows', 268), ('jailbreak', 197), ('mango', 195), ('android', 151), ('leak', 131), ('icloud', 126), ('release', 102), ('available', 89), ('os', 83), ('3', 80), ('miui', 76), ('x', 73), ('tablet', 72), ('install', 71), ('gm', 70), ('boot', 69), ('released', 68), ('keynote', 64), ('october', 63), ('usb', 60), ('need', 60), ('know', 58), ('cydia', 57), ('sony', 55), ('lion', 55), ('twitter', 55), ('wednesday', 54), ('50', 53), ('downloading', 49), ('still', 48), ('as', 48), ('days', 46), ('good', 46), ('htc', 46), ('vs', 46), ('already', 45), ('was', 44), ('come', 44), ('untethered', 44), ('any', 43), ('users', 43), ('right', 40), ('75', 40), ('d', 40), ('some', 40), ('105', 39), ('only', 39), ('imessage', 39), ('version', 39)]"
      },
      {
       "output_type": "stream",
       "stream": "stdout",
       "text": "\n[('maps', 285), ('siri', 74), ('days', 72), ('youtube', 64), ('know', 61), ('need', 59), ('release', 56), ('users', 56), ('back', 55), ('take', 53), ('google', 52), ('free', 51), ('as', 51), ('facebook', 51), ('wednesday', 50), ('released', 48), ('after', 47), ('was', 47), ('ios6', 46), ('user', 46), ('real', 45), ('come', 42), ('experience', 42), ('estate', 41), ('love', 41), ('jailbreak', 41), ('faster', 40), ('installation', 40), ('two', 40), ('available', 40), ('tweaked', 40), ('pros', 40), ('onetap', 40), ('promote', 40), ('really', 39), ('integration', 39), ('step', 39), ('happens', 39), ('feature', 38), ('they', 38), ('finally', 38), ('cool', 38), ('still', 38), ('lol', 38), ('why', 38), ('already', 37), ('good', 37), ('say', 36), ('coming', 36), ('gm', 36)]"
      },
      {
       "output_type": "stream",
       "stream": "stdout",
       "text": "\n[('battery', 173), ('users', 67), ('really', 65), ('hate', 64), ('make', 62), ('70', 61), ('why', 59), ('as', 56), ('know', 55), ('people', 54), ('waterproof', 51), ('does', 51), ('life', 50), ('love', 50), ('still', 50), ('was', 49), ('after', 48), ('shit', 48), ('some', 47), ('ios7', 46), ('bug', 45), ('only', 42), ('screen', 42), ('lol', 41), ('android', 41), ('we', 40), ('using', 40), ('left', 38), ('looks', 38), ('even', 35), ('cool', 35), ('iphones', 35), ('off', 35), ('they', 34), ('much', 34), ('instagram', 34), ('fuck', 34), ('music', 33), ('fake', 33), ('think', 33), ('anyone', 33), ('should', 33), ('wallpapers', 32), ('finally', 32), ('need', 32), ('buy', 32), ('better', 31), ('best', 31), ('had', 31), ('10', 31)]"
      },
      {
       "output_type": "stream",
       "stream": "stdout",
       "text": "\n[('squarespace', 305), ('att', 259), ('win', 246), ('3g', 225), ('faster', 173), ('offer', 153), ('twitition', 151), ('reasonable', 147), ('32gb', 124), ('prices', 114), ('free', 109), ('getting', 109), ('need', 104), ('httptwititioncomf96aq', 97), ('1', 95), ('ryanbarr', 94), ('chance', 89), ('could', 85), ('info', 85), ('see', 82), ('help', 81), ('still', 80), ('as', 78), ('scottbourne', 78), ('r', 78), ('scancafe', 77), ('pls', 76), ('contract', 76), ('httpbitly36fic', 75), ('line', 74), ('theiphoneblog', 74), ('buy', 72), ('54', 70), ('go', 69), ('gift', 68), ('friday', 67), ('into', 66), ('wonder', 66), ('o2', 66), ('us', 63), ('cnn', 61), ('off', 60), ('check', 60), ('am', 59), ('waiting', 59), ('good', 59), ('completly', 58), ('dm', 58), ('was', 58), ('11', 57)]"
      },
      {
       "output_type": "stream",
       "stream": "stdout",
       "text": "\n[('att', 128), ('best', 111), ('case', 104), ('shipping', 104), ('news', 94), ('free', 92), ('dealsplus', 91), ('win', 88), ('getting', 78), ('preorder', 77), ('thursday', 77), ('line', 76), ('some', 76), ('cases', 75), ('was', 74), ('signal', 71), ('post', 70), ('follow', 69), ('buys', 68), ('customers', 68), ('engadget', 65), ('as', 64), ('facetime', 64), ('walmart', 63), ('retweet', 62), ('3g', 62), ('release', 61), ('white', 61), ('until', 59), ('leaked', 59), ('buy', 59), ('issues', 59), ('really', 58), ('details', 57), ('reception', 56), ('orders', 56), ('blog', 56), ('before', 54), ('they', 53), ('days', 53), ('holding', 52), ('reviews', 52), ('deliveries', 52), ('jobs', 50), ('we', 50), ('confirms', 50), ('issue', 49), ('23rd', 48), ('already', 48), ('tech', 47)]"
      },
      {
       "output_type": "stream",
       "stream": "stdout",
       "text": "\n[('siri', 256), ('samsung', 115), ('wp7', 97), ('million', 94), ('line', 93), ('sprint', 83), ('sales', 83), ('case', 83), ('steve', 81), ('mango', 76), ('as', 75), ('android', 75), ('vs', 72), ('friday', 71), ('getting', 70), ('buy', 68), ('galaxy', 66), ('lol', 63), ('windows', 62), ('white', 61), ('camera', 56), ('sale', 56), ('they', 55), ('news', 55), ('onmashtopbdvsp', 54), ('att', 53), ('weekend', 53), ('think', 53), ('verizon', 53), ('still', 52), ('read', 51), ('only', 51), ('go', 49), ('know', 49), ('jailbreak', 48), ('sold', 48), ('why', 48), ('test', 45), ('need', 45), ('days', 45), ('leak', 45), ('u', 44), ('good', 44), ('free', 44), ('available', 44), ('youtube', 43), ('we', 42), ('blackberry', 41), ('card', 41), ('save', 41)]"
      },
      {
       "output_type": "stream",
       "stream": "stdout",
       "text": "\n[('samsung', 96), ('galaxy', 88), ('buy', 88), ('people', 85), ('getting', 84), ('as', 72), ('they', 69), ('line', 68), ('lol', 61), ('youtube', 60), ('really', 57), ('win', 57), ('s3', 56), ('3', 53), ('still', 52), ('need', 52), ('better', 50), ('think', 50), ('case', 49), ('know', 48), ('was', 47), ('news', 47), ('going', 44), ('vs', 43), ('we', 43), ('who', 42), ('good', 41), ('already', 41), ('says', 41), ('only', 40), ('why', 40), ('att', 39), ('best', 39), ('iphone5', 38), ('black', 38), ('would', 38), ('free', 38), ('u', 37), ('ordered', 36), ('even', 34), ('over', 34), ('should', 33), ('sales', 33), ('fuck', 33), ('check', 33), ('friday', 33), ('gonna', 32), ('giveaway', 32), ('come', 32), ('there', 32)]"
      },
      {
       "output_type": "stream",
       "stream": "stdout",
       "text": "\n[('gold', 183), ('fingerprint', 131), ('youtube', 97), ('id', 88), ('available', 85), ('reviews', 82), ('roundup', 79), ('friday', 77), ('getting', 66), ('daily', 62), ('scanner', 61), ('liked', 58), ('sensor', 55), ('good', 54), ('finger', 50), ('vs', 49), ('news', 47), ('ios7', 46), ('as', 46), ('slow', 45), ('camera', 44), ('tech', 43), ('unlock', 43), ('burberry', 41), ('cybershot', 41), ('qx10', 41), ('motion', 40), ('buy', 40), ('already', 39), ('need', 39), ('lol', 38), ('line', 38), ('would', 36), ('am', 35), ('1', 34), ('only', 34), ('reveals', 34), ('was', 33), ('test', 33), ('might', 33), ('sold', 33), ('supply', 33), ('online', 32), ('sale', 32), ('hack', 32), ('short', 32), ('iphone5s', 32), ('android', 31), ('even', 30), ('watch', 30)]"
      },
      {
       "output_type": "stream",
       "stream": "stdout",
       "text": "\n[('gold', 211), ('fingerprint', 144), ('id', 87), ('friday', 86), ('youtube', 83), ('getting', 77), ('finger', 67), ('scanner', 65), ('sensor', 60), ('good', 56), ('am', 53), ('unlock', 50), ('liked', 50), ('camera', 50), ('lol', 48), ('slow', 47), ('line', 47), ('burberry', 45), ('would', 45), ('news', 45), ('motion', 45), ('already', 44), ('ios7', 44), ('buy', 44), ('as', 43), ('available', 42), ('short', 41), ('only', 40), ('sold', 40), ('work', 37), ('reveals', 37), ('need', 37), ('was', 36), ('users', 36), ('days', 35), ('tech', 35), ('online', 35), ('supply', 35), ('order', 34), ('filmmaker', 34), ('going', 34), ('1', 34), ('att', 34), ('who', 34), ('iphone5s', 34), ('documentary', 34), ('hysteria', 33), ('hack', 33), ('3', 33), ('film', 33)]"
      },
      {
       "output_type": "stream",
       "stream": "stdout",
       "text": "\n[('plastic', 137), ('youtube', 136), ('cheap', 102), ('liked', 90), ('unboxing', 84), ('looks', 81), ('designed', 69), ('target', 66), ('together', 66), ('buy', 64), ('case', 60), ('preorder', 58), ('commercial', 56), ('also', 54), ('think', 52), ('getting', 50), ('lol', 49), ('as', 49), ('really', 49), ('free', 48), ('blue', 48), ('punchtab', 48), ('they', 47), ('selling', 46), ('7999', 44), ('oncontract', 44), ('color', 43), ('accepting', 43), ('orders', 40), ('news', 39), ('available', 39), ('tv', 39), ('pink', 38), ('giveaway', 38), ('5cs', 38), ('people', 37), ('overwhelming', 37), ('perfected', 35), ('why', 35), ('already', 32), ('because', 32), ('carrier', 32), ('cause', 32), ('colorful', 31), ('source', 31), ('phones', 30), ('who', 30), ('quiet', 30), ('know', 30), ('chance', 30)]"
      },
      {
       "output_type": "stream",
       "stream": "stdout",
       "text": "\n"
      }
     ],
     "prompt_number": 170
    },
    {
     "cell_type": "code",
     "collapsed": false,
     "input": "",
     "language": "python",
     "metadata": {},
     "outputs": [],
     "prompt_number": 161
    },
    {
     "cell_type": "code",
     "collapsed": false,
     "input": "",
     "language": "python",
     "metadata": {},
     "outputs": []
    }
   ],
   "metadata": {}
  }
 ]
}