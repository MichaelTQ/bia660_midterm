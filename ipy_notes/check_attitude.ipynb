{
 "metadata": {
  "name": "check_attitude"
 },
 "nbformat": 3,
 "nbformat_minor": 0,
 "worksheets": [
  {
   "cells": [
    {
     "cell_type": "code",
     "collapsed": false,
     "input": "import pymysql",
     "language": "python",
     "metadata": {},
     "outputs": [],
     "prompt_number": 38
    },
    {
     "cell_type": "code",
     "collapsed": false,
     "input": "neg_words = ['hate','terrible','awful','worse','worst','difficult','struggle','pain', 'bug',\n             'annoy','bad', 'annoying', ':(', 'horribl', 'not working', 'don\\'t like', 'dont like', 'suffer', 'problem']\npos_words = ['love', 'loving','like','good','great','easy','awesome','brilliant','interesting',\n             'fantastic','wonderful','amazing','stunning','charming', 'can\\'t wait', 'smooth', \n             'congrats', ':)', 'cool', 'pleasant', 'pleased', 'looking good', 'satisf']\n\ndb_user = \"bia_user\"\ndb_password = \"biabiabia\"\ndb_name = \"ios_compare_db\"\n",
     "language": "python",
     "metadata": {},
     "outputs": [],
     "prompt_number": 39
    },
    {
     "cell_type": "code",
     "collapsed": false,
     "input": "f = open('./att_words/pos_words.txt', 'r+')#txt file with words of positive attitude\nfor line in f:\n    word = line[:-1]\n    if word not in pos_words:\n        pos_words.append(word)\nf.close()\n\nf = open('./att_words/neg_words.txt', 'r+')#txt file with words of negative attitude\nfor line in f:\n    word = line[:-1]\n    if word not in neg_words:\n        neg_words.append(word)\nf.close()\n\n#print neg_words\n#print \"\\n\\n\"\n#print pos_words\n",
     "language": "python",
     "metadata": {},
     "outputs": [],
     "prompt_number": 40
    },
    {
     "cell_type": "code",
     "collapsed": false,
     "input": "list_pos4 = []\nlist_neg4 = []\nlist_pos5 = []\nlist_neg5 = []\nlist_pos6 = []\nlist_neg6 = []\nlist_pos7 = []\nlist_neg7 = []\nios4_count = 0\nios5_count = 0\nios6_count = 0\nios7_count = 0",
     "language": "python",
     "metadata": {},
     "outputs": [],
     "prompt_number": 41
    },
    {
     "cell_type": "code",
     "collapsed": false,
     "input": "def getAttitude(db_user, db_password, db_name, tbl_name):\n    conn = pymysql.connect(host = '127.0.0.1', port = 3306, user = db_user, passwd = db_password, db = db_name)\n    str_sql_count = 'select count(*) from ' + tbl_name\n    str_sql_get = 'select tw_url, tw_content, tw_time from ' + tbl_name + ' order by tw_time DESC'\n    #print str_sql_get\n    #print \"\\n\"\n    cur = conn.cursor()\n    cur.execute(str_sql_count)\n    (all_count,) = cur.fetchone()\n\n    list_pos = []\n    list_neg = []\n\n    cur.execute(str_sql_get)\n    for row in cur:\n        content = row[1].lower()\n        \n        for word in neg_words:\n            if word in content:\n                list_neg.append(content)\n                break\n        if word == neg_words[-1]:\n            for word in pos_words:\n                if word in content:\n                    list_pos.append(content)\n                    break\n                    \n    #print len(list_pos)\n    #print len(list_neg)\n    #print \"\\n\"\n    #for sen in list_pos:\n    #    print sen\n    #print \"\\n\\n\\n\"\n    #for sen in list_neg:\n    #    print sen\n    cur.close()\n    conn.close()\n    return [list_pos, list_neg, all_count]",
     "language": "python",
     "metadata": {},
     "outputs": [],
     "prompt_number": 42
    },
    {
     "cell_type": "code",
     "collapsed": false,
     "input": "#get Attitude for iOS4\ntbl_name = \"ios_four_tweets\"\n[list_pos4, list_neg4, ios4_count] = getAttitude(db_user, db_password, db_name, tbl_name)",
     "language": "python",
     "metadata": {},
     "outputs": [],
     "prompt_number": 43
    },
    {
     "cell_type": "code",
     "collapsed": false,
     "input": "#get Attitude for iOS5\ntbl_name = \"ios_five_tweets\"\n[list_pos5, list_neg5, ios5_count] = getAttitude(db_user, db_password, db_name, tbl_name)",
     "language": "python",
     "metadata": {},
     "outputs": [],
     "prompt_number": 44
    },
    {
     "cell_type": "code",
     "collapsed": false,
     "input": "#get Attitude for iOS6\ntbl_name = \"ios_six_tweets\"\n[list_pos6, list_neg6, ios6_count] = getAttitude(db_user, db_password, db_name, tbl_name)",
     "language": "python",
     "metadata": {},
     "outputs": [],
     "prompt_number": 45
    },
    {
     "cell_type": "code",
     "collapsed": false,
     "input": "#get Attitude for iOS7\ntbl_name = \"ios_seven_tweets\"\n[list_pos7, list_neg7, ios7_count] = getAttitude(db_user, db_password, db_name, tbl_name)",
     "language": "python",
     "metadata": {},
     "outputs": [],
     "prompt_number": 46
    },
    {
     "cell_type": "code",
     "collapsed": false,
     "input": "list_ios_attitude = [[list_pos4, list_neg4], [list_pos5, list_neg5], [list_pos6, list_neg6], [list_pos7, list_neg7]]",
     "language": "python",
     "metadata": {},
     "outputs": [],
     "prompt_number": 47
    },
    {
     "cell_type": "code",
     "collapsed": false,
     "input": "#print out results:\n\nperc_pos4 = 100*float(len(list_pos4))/float(ios4_count)\nperc_neg4 = 100*float(len(list_neg4))/float(ios4_count)\nperc_pos5 = 100*float(len(list_pos5))/float(ios5_count)\nperc_neg5 = 100*float(len(list_neg5))/float(ios5_count)\nperc_pos6 = 100*float(len(list_pos6))/float(ios6_count)\nperc_neg6 = 100*float(len(list_neg6))/float(ios6_count)\nperc_pos7 = 100*float(len(list_pos7))/float(ios7_count)\nperc_neg7 = 100*float(len(list_neg7))/float(ios7_count)\n\npos_v_neg4 = float(len(list_pos4))/float(len(list_neg4))\npos_v_neg5 = float(len(list_pos5))/float(len(list_neg5))\npos_v_neg6 = float(len(list_pos6))/float(len(list_neg6))\npos_v_neg7 = float(len(list_pos7))/float(len(list_neg7))\n\nprint \"iOS 4:\"\nprint \"Positive: \", len(list_pos4), \"/\", ios4_count, \"\\t\",\nprint(\"%.5f\"% perc_pos4),\nprint \"%\"\nprint \"Negative: \", len(list_neg4), \"/\", ios4_count, \"\\t\",\nprint(\"%.5f\"% perc_neg4),\nprint \"%\"\nprint \"Positive vs. Negative:\\t\",\nprint(\"%.5f\"% pos_v_neg4)\nprint \"====================================\"\nprint \"iOS 5:\"\nprint \"Positive: \", len(list_pos5), \"/\", ios5_count, \"\\t\",\nprint(\"%.5f\"% perc_pos5),\nprint \"%\"\nprint \"Negative: \", len(list_neg5), \"/\", ios5_count, \"\\t\",\nprint(\"%.5f\"% perc_neg5),\nprint \"%\"\nprint \"Positive vs. Negative:\\t\",\nprint(\"%.5f\"% pos_v_neg5)\nprint \"====================================\"\nprint \"iOS 6:\"\nprint \"Positive: \", len(list_pos6), \"/\", ios6_count, \"\\t\",\nprint(\"%.5f\"% perc_pos6),\nprint \"%\"\nprint \"Negative: \", len(list_neg6), \"/\", ios6_count, \"\\t\",\nprint(\"%.5f\"% perc_neg6),\nprint \"%\"\nprint \"Positive vs. Negative:\\t\",\nprint(\"%.5f\"% pos_v_neg6)\nprint \"====================================\"\nprint \"iOS 7:\"\nprint \"Positive: \", len(list_pos7), \"/\", ios7_count, \"\\t\",\nprint(\"%.5f\"% perc_pos7),\nprint \"%\"\nprint \"Negative: \", len(list_neg7), \"/\", ios7_count, \"\\t\",\nprint(\"%.5f\"% perc_neg7),\nprint \"%\"\nprint \"Positive vs. Negative:\\t\",\nprint(\"%.5f\"% pos_v_neg7)\n",
     "language": "python",
     "metadata": {},
     "outputs": [
      {
       "output_type": "stream",
       "stream": "stdout",
       "text": "iOS 4:\nPositive:  238 / 813 \t29.27429 %\nNegative:  172 / 813 \t21.15621 %\nPositive vs. Negative:\t1.38372\n====================================\niOS 5:\nPositive:  220 / 743 \t29.60969 %\nNegative:  151 / 743 \t20.32301 %\nPositive vs. Negative:\t1.45695\n====================================\niOS 6:\nPositive:  196 / 622 \t31.51125 %\nNegative:  135 / 622 \t21.70418 %\nPositive vs. Negative:\t1.45185\n====================================\niOS 7:\nPositive:  174 / 554 \t31.40794 %\nNegative:  133 / 554 \t24.00722 %\nPositive vs. Negative:\t1.30827\n"
      }
     ],
     "prompt_number": 51
    },
    {
     "cell_type": "code",
     "collapsed": false,
     "input": "",
     "language": "python",
     "metadata": {},
     "outputs": []
    }
   ],
   "metadata": {}
  }
 ]
}