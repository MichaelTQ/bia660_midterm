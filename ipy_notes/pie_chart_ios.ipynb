{
 "metadata": {
  "name": ""
 },
 "nbformat": 3,
 "nbformat_minor": 0,
 "worksheets": [
  {
   "cells": [
    {
     "cell_type": "code",
     "collapsed": false,
     "input": [
      "import matplotlib.pyplot as plt\n",
      "from matplotlib.gridspec import GridSpec\n",
      "\n",
      "labels = ['Positive', 'Negative', 'Others']\n",
      "fracs_ios4 = [745, 530, 2552 - 745 - 530]\n",
      "fracs_ios5 = [787, 451, 2491 - 787 - 451]\n",
      "fracs_ios6 = [843, 492, 2611 - 843 - 492]\n",
      "fracs_ios7 = [729, 595, 2374 - 729 - 595]\n",
      "\n",
      "explode = (0.05, 0, 0)\n",
      "\n",
      "colors = ['yellowgreen', 'gold', 'lightskyblue', 'lightcoral', 'burlywood']\n",
      "plt.title('')\n",
      "the_grid = GridSpec(2, 2)\n",
      "plt.subplot(the_grid[0, 0], aspect = 1)\n",
      "plt.pie(fracs_ios4, explode, labels = labels, colors = colors,\n",
      "        autopct = '%1.1f%%', shadow = True)\n",
      "plt.title('iOS 4', bbox = {'facecolor':'white', 'alpha':0.5, 'pad':5})\n",
      "\n",
      "plt.subplot(the_grid[0, 1], aspect = 1)\n",
      "plt.pie(fracs_ios5, explode, labels = labels, colors = colors,\n",
      "        autopct = '%1.1f%%', shadow = True)\n",
      "plt.title('iOS 5', bbox = {'facecolor':'white', 'alpha':0.5, 'pad':5})\n",
      "\n",
      "plt.subplot(the_grid[1, 0], aspect = 1)\n",
      "plt.pie(fracs_ios6, explode, labels = labels, colors = colors,\n",
      "        autopct = '%1.1f%%', shadow = True)\n",
      "plt.title('iOS 6', bbox = {'facecolor':'white', 'alpha':0.5, 'pad':5})\n",
      "\n",
      "plt.subplot(the_grid[1, 1], aspect = 1)\n",
      "plt.pie(fracs_ios7, explode, labels = labels, colors = colors,\n",
      "        autopct = '%1.1f%%', shadow = True)\n",
      "plt.title('iOS 7', bbox = {'facecolor':'white', 'alpha':0.5, 'pad':5})\n",
      "\n",
      "plt.show()"
     ],
     "language": "python",
     "metadata": {},
     "outputs": [],
     "prompt_number": 1
    },
    {
     "cell_type": "code",
     "collapsed": false,
     "input": [],
     "language": "python",
     "metadata": {},
     "outputs": []
    }
   ],
   "metadata": {}
  }
 ]
}