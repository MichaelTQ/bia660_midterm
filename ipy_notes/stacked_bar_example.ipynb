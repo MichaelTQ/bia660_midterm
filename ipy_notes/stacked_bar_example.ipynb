{
 "metadata": {
  "name": ""
 },
 "nbformat": 3,
 "nbformat_minor": 0,
 "worksheets": [
  {
   "cells": [
    {
     "cell_type": "code",
     "collapsed": false,
     "input": [
      "import numpy as np\n",
      "import matplotlib.pyplot as plt\n",
      "\n",
      "\n",
      "N = 5\n",
      "menMeans   = (20, 35, 30, 35, 27)\n",
      "womenMeans = (25, 32, 34, 20, 25)\n",
      "menStd     = (2, 3, 4, 1, 2)\n",
      "womenStd   = (3, 5, 2, 3, 3)\n",
      "ind = np.arange(N)    # the x locations for the groups\n",
      "width = 0.35       # the width of the bars: can also be len(x) sequence\n",
      "\n",
      "p1 = plt.bar(ind, menMeans,   width, color='r', yerr=womenStd)\n",
      "p2 = plt.bar(ind, womenMeans, width, color='y',\n",
      "             bottom=menMeans, yerr=menStd)\n",
      "\n",
      "plt.ylabel('Scores')\n",
      "plt.title('Scores by group and gender')\n",
      "plt.xticks(ind+width/2., ('G1', 'G2', 'G3', 'G4', 'G5') )\n",
      "plt.yticks(np.arange(0,81,10))\n",
      "plt.legend( (p1[0], p2[0]), ('Men', 'Women') )\n",
      "\n",
      "plt.show()"
     ],
     "language": "python",
     "metadata": {},
     "outputs": [],
     "prompt_number": 1
    },
    {
     "cell_type": "code",
     "collapsed": false,
     "input": [],
     "language": "python",
     "metadata": {},
     "outputs": []
    }
   ],
   "metadata": {}
  }
 ]
}